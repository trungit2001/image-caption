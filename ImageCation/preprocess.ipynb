{
 "cells": [
  {
   "cell_type": "code",
   "execution_count": 12,
   "id": "f745628d-7b3e-4a82-bdc6-66e4c0726862",
   "metadata": {},
   "outputs": [],
   "source": [
    "import os\n",
    "import pandas as pd"
   ]
  },
  {
   "cell_type": "code",
   "execution_count": 13,
   "id": "f0393e2c-baa2-4f53-84c2-3110d2a157e3",
   "metadata": {},
   "outputs": [
    {
     "data": {
      "text/plain": [
       "8091"
      ]
     },
     "execution_count": 13,
     "metadata": {},
     "output_type": "execute_result"
    }
   ],
   "source": [
    "all_image_files = os.listdir('data/images')\n",
    "len(all_image_files)"
   ]
  },
  {
   "cell_type": "code",
   "execution_count": 14,
   "id": "0bb7b048-f0a7-473a-ab12-a9dc98ad0ec2",
   "metadata": {},
   "outputs": [
    {
     "data": {
      "text/plain": [
       "(40339, 3)"
      ]
     },
     "execution_count": 14,
     "metadata": {},
     "output_type": "execute_result"
    }
   ],
   "source": [
    "captions_vi = open('data/captions_vi.txt', 'r', encoding='utf8')\n",
    "file_names, nums, caps = [], [], []\n",
    "\n",
    "for caption in captions_vi:\n",
    "    list_text = caption.strip('\\n').split()\n",
    "    if len(list_text) >= 4:\n",
    "        if list_text[1] == '#':\n",
    "            file_names.append(list_text[0])\n",
    "            nums.append(list_text[1] + list_text[2])\n",
    "            caps.append(' '.join(list_text[3:]))\n",
    "    else:\n",
    "        # print(caption)\n",
    "        pass\n",
    "        \n",
    "df = pd.DataFrame({\n",
    "    'file_name': file_names,\n",
    "    'nums': nums,\n",
    "    'caps': caps\n",
    "})\n",
    "\n",
    "df.shape"
   ]
  },
  {
   "cell_type": "code",
   "execution_count": 15,
   "id": "4af29b07-7eaa-44de-a70d-63715d325b31",
   "metadata": {},
   "outputs": [
    {
     "data": {
      "text/plain": [
       "file_name     8091\n",
       "nums             5\n",
       "caps         39826\n",
       "dtype: int64"
      ]
     },
     "execution_count": 15,
     "metadata": {},
     "output_type": "execute_result"
    }
   ],
   "source": [
    "df.nunique()"
   ]
  },
  {
   "cell_type": "code",
   "execution_count": 8,
   "id": "7953a14a-195f-4d1d-b257-6f80c2d4bdd6",
   "metadata": {},
   "outputs": [
    {
     "data": {
      "text/plain": [
       "40455"
      ]
     },
     "execution_count": 8,
     "metadata": {},
     "output_type": "execute_result"
    }
   ],
   "source": [
    "8091 * 5"
   ]
  },
  {
   "cell_type": "code",
   "execution_count": 17,
   "id": "5aa07ba8-f66e-44ca-83be-d09fdf8f170c",
   "metadata": {},
   "outputs": [
    {
     "data": {
      "text/html": [
       "<div>\n",
       "<style scoped>\n",
       "    .dataframe tbody tr th:only-of-type {\n",
       "        vertical-align: middle;\n",
       "    }\n",
       "\n",
       "    .dataframe tbody tr th {\n",
       "        vertical-align: top;\n",
       "    }\n",
       "\n",
       "    .dataframe thead th {\n",
       "        text-align: right;\n",
       "    }\n",
       "</style>\n",
       "<table border=\"1\" class=\"dataframe\">\n",
       "  <thead>\n",
       "    <tr style=\"text-align: right;\">\n",
       "      <th></th>\n",
       "      <th>file_name</th>\n",
       "      <th>nums</th>\n",
       "      <th>caps</th>\n",
       "    </tr>\n",
       "  </thead>\n",
       "  <tbody>\n",
       "    <tr>\n",
       "      <th>0</th>\n",
       "      <td>1000268201_693b08cb0e.jpg</td>\n",
       "      <td>#0</td>\n",
       "      <td>Một đứa trẻ mặc váy hồng đang trèo lên một bộ ...</td>\n",
       "    </tr>\n",
       "    <tr>\n",
       "      <th>1</th>\n",
       "      <td>1000268201_693b08cb0e.jpg</td>\n",
       "      <td>#1</td>\n",
       "      <td>Một cô gái đi vào một tòa nhà bằng gỗ.</td>\n",
       "    </tr>\n",
       "    <tr>\n",
       "      <th>2</th>\n",
       "      <td>1000268201_693b08cb0e.jpg</td>\n",
       "      <td>#2</td>\n",
       "      <td>Một cô bé trèo vào nhà chơi bằng gỗ.</td>\n",
       "    </tr>\n",
       "    <tr>\n",
       "      <th>3</th>\n",
       "      <td>1000268201_693b08cb0e.jpg</td>\n",
       "      <td>#3</td>\n",
       "      <td>Một cô bé leo lên cầu thang đến nhà chơi của m...</td>\n",
       "    </tr>\n",
       "    <tr>\n",
       "      <th>4</th>\n",
       "      <td>1000268201_693b08cb0e.jpg</td>\n",
       "      <td>#4</td>\n",
       "      <td>Một cô bé mặc váy hồng đi vào cabin gỗ.</td>\n",
       "    </tr>\n",
       "  </tbody>\n",
       "</table>\n",
       "</div>"
      ],
      "text/plain": [
       "                   file_name nums  \\\n",
       "0  1000268201_693b08cb0e.jpg   #0   \n",
       "1  1000268201_693b08cb0e.jpg   #1   \n",
       "2  1000268201_693b08cb0e.jpg   #2   \n",
       "3  1000268201_693b08cb0e.jpg   #3   \n",
       "4  1000268201_693b08cb0e.jpg   #4   \n",
       "\n",
       "                                                caps  \n",
       "0  Một đứa trẻ mặc váy hồng đang trèo lên một bộ ...  \n",
       "1             Một cô gái đi vào một tòa nhà bằng gỗ.  \n",
       "2               Một cô bé trèo vào nhà chơi bằng gỗ.  \n",
       "3  Một cô bé leo lên cầu thang đến nhà chơi của m...  \n",
       "4            Một cô bé mặc váy hồng đi vào cabin gỗ.  "
      ]
     },
     "execution_count": 17,
     "metadata": {},
     "output_type": "execute_result"
    }
   ],
   "source": [
    "df.head()"
   ]
  },
  {
   "cell_type": "code",
   "execution_count": 24,
   "id": "5d4ee686-7c49-42ff-a304-a89281e172e8",
   "metadata": {},
   "outputs": [],
   "source": [
    "# Kiểm tra có bị duplicate hay không\n",
    "assert len(df.drop_duplicates()) == df.shape[0]"
   ]
  },
  {
   "cell_type": "code",
   "execution_count": 83,
   "id": "28850458-77f7-4a89-b89a-d139a3fc75fb",
   "metadata": {},
   "outputs": [
    {
     "data": {
      "text/plain": [
       "7938"
      ]
     },
     "execution_count": 83,
     "metadata": {},
     "output_type": "execute_result"
    }
   ],
   "source": [
    "# Lọc ra tên các file ảnh có caption\n",
    "dist_file = [file for file in all_image_files if file in df['file_name'].values.tolist()]\n",
    "file_no_cap = set(all_image_files) - set(dist_file)\n",
    "len(dist_file)"
   ]
  },
  {
   "cell_type": "markdown",
   "id": "4659ab96-b190-404b-85df-035d02be35bb",
   "metadata": {},
   "source": [
    "Chỉ có 7938 ảnh trong số 8091 ảnh có sẵn caption"
   ]
  },
  {
   "cell_type": "code",
   "execution_count": 85,
   "id": "f9469674-706f-4f9b-ac33-44f5fd90b110",
   "metadata": {},
   "outputs": [
    {
     "data": {
      "text/plain": [
       "153"
      ]
     },
     "execution_count": 85,
     "metadata": {},
     "output_type": "execute_result"
    }
   ],
   "source": [
    "len(file_no_cap)"
   ]
  },
  {
   "cell_type": "code",
   "execution_count": 90,
   "id": "90cae3fc-8e06-4802-a1c7-bba27c11dde3",
   "metadata": {},
   "outputs": [
    {
     "data": {
      "text/plain": [
       "(39616, 3)"
      ]
     },
     "execution_count": 90,
     "metadata": {},
     "output_type": "execute_result"
    }
   ],
   "source": [
    "# Lấy ra những caption có ảnh\n",
    "dist_df = df.loc[df.file_name.isin(dist_file)]\n",
    "dist_df.shape"
   ]
  },
  {
   "cell_type": "code",
   "execution_count": 68,
   "id": "1e1930a3-4bf1-4016-847c-08d8817ef725",
   "metadata": {},
   "outputs": [
    {
     "data": {
      "text/html": [
       "<div>\n",
       "<style scoped>\n",
       "    .dataframe tbody tr th:only-of-type {\n",
       "        vertical-align: middle;\n",
       "    }\n",
       "\n",
       "    .dataframe tbody tr th {\n",
       "        vertical-align: top;\n",
       "    }\n",
       "\n",
       "    .dataframe thead th {\n",
       "        text-align: right;\n",
       "    }\n",
       "</style>\n",
       "<table border=\"1\" class=\"dataframe\">\n",
       "  <thead>\n",
       "    <tr style=\"text-align: right;\">\n",
       "      <th></th>\n",
       "      <th>file_name</th>\n",
       "      <th>nums</th>\n",
       "      <th>caps</th>\n",
       "    </tr>\n",
       "  </thead>\n",
       "  <tbody>\n",
       "    <tr>\n",
       "      <th>0</th>\n",
       "      <td>1000268201_693b08cb0e.jpg</td>\n",
       "      <td>#0</td>\n",
       "      <td>Một đứa trẻ mặc váy hồng đang trèo lên một bộ ...</td>\n",
       "    </tr>\n",
       "    <tr>\n",
       "      <th>1</th>\n",
       "      <td>1000268201_693b08cb0e.jpg</td>\n",
       "      <td>#1</td>\n",
       "      <td>Một cô gái đi vào một tòa nhà bằng gỗ.</td>\n",
       "    </tr>\n",
       "    <tr>\n",
       "      <th>2</th>\n",
       "      <td>1000268201_693b08cb0e.jpg</td>\n",
       "      <td>#2</td>\n",
       "      <td>Một cô bé trèo vào nhà chơi bằng gỗ.</td>\n",
       "    </tr>\n",
       "    <tr>\n",
       "      <th>3</th>\n",
       "      <td>1000268201_693b08cb0e.jpg</td>\n",
       "      <td>#3</td>\n",
       "      <td>Một cô bé leo lên cầu thang đến nhà chơi của m...</td>\n",
       "    </tr>\n",
       "    <tr>\n",
       "      <th>4</th>\n",
       "      <td>1000268201_693b08cb0e.jpg</td>\n",
       "      <td>#4</td>\n",
       "      <td>Một cô bé mặc váy hồng đi vào cabin gỗ.</td>\n",
       "    </tr>\n",
       "  </tbody>\n",
       "</table>\n",
       "</div>"
      ],
      "text/plain": [
       "                   file_name nums  \\\n",
       "0  1000268201_693b08cb0e.jpg   #0   \n",
       "1  1000268201_693b08cb0e.jpg   #1   \n",
       "2  1000268201_693b08cb0e.jpg   #2   \n",
       "3  1000268201_693b08cb0e.jpg   #3   \n",
       "4  1000268201_693b08cb0e.jpg   #4   \n",
       "\n",
       "                                                caps  \n",
       "0  Một đứa trẻ mặc váy hồng đang trèo lên một bộ ...  \n",
       "1             Một cô gái đi vào một tòa nhà bằng gỗ.  \n",
       "2               Một cô bé trèo vào nhà chơi bằng gỗ.  \n",
       "3  Một cô bé leo lên cầu thang đến nhà chơi của m...  \n",
       "4            Một cô bé mặc váy hồng đi vào cabin gỗ.  "
      ]
     },
     "execution_count": 68,
     "metadata": {},
     "output_type": "execute_result"
    }
   ],
   "source": [
    "dist_df.head()"
   ]
  },
  {
   "cell_type": "code",
   "execution_count": 69,
   "id": "8645ddab-2b6a-41f2-8a2b-e957c79774cc",
   "metadata": {},
   "outputs": [
    {
     "ename": "AssertionError",
     "evalue": "Không đủ 5 caption cho 1 ảnh",
     "output_type": "error",
     "traceback": [
      "\u001b[1;31m---------------------------------------------------------------------------\u001b[0m",
      "\u001b[1;31mAssertionError\u001b[0m                            Traceback (most recent call last)",
      "Input \u001b[1;32mIn [69]\u001b[0m, in \u001b[0;36m<cell line: 1>\u001b[1;34m()\u001b[0m\n\u001b[1;32m----> 1\u001b[0m \u001b[38;5;28;01massert\u001b[39;00m \u001b[38;5;28mlen\u001b[39m(dist_file) \u001b[38;5;241m*\u001b[39m \u001b[38;5;241m5\u001b[39m \u001b[38;5;241m==\u001b[39m dist_df\u001b[38;5;241m.\u001b[39mshape[\u001b[38;5;241m0\u001b[39m], \u001b[38;5;124m'\u001b[39m\u001b[38;5;124mKhông đủ 5 caption cho 1 ảnh\u001b[39m\u001b[38;5;124m'\u001b[39m\n",
      "\u001b[1;31mAssertionError\u001b[0m: Không đủ 5 caption cho 1 ảnh"
     ]
    }
   ],
   "source": [
    "assert len(dist_file) * 5 == dist_df.shape[0], 'Không đủ 5 caption cho 1 ảnh'"
   ]
  },
  {
   "cell_type": "code",
   "execution_count": 70,
   "id": "9cf60495-f9b6-4777-bab5-4da75768a243",
   "metadata": {},
   "outputs": [],
   "source": [
    "# Lấy ra tên những file không có đủ 5 caption\n",
    "file_missing_cap = []\n",
    "for file_name in dist_file:\n",
    "    if len(dist_df.loc[dist_df.file_name == file_name]) != 5:\n",
    "        file_missing_cap.append(file_name)"
   ]
  },
  {
   "cell_type": "code",
   "execution_count": 71,
   "id": "948694db-97f1-4e77-820e-581e5400b05f",
   "metadata": {},
   "outputs": [
    {
     "data": {
      "text/plain": [
       "49"
      ]
     },
     "execution_count": 71,
     "metadata": {},
     "output_type": "execute_result"
    }
   ],
   "source": [
    "len(file_missing_cap)"
   ]
  },
  {
   "cell_type": "code",
   "execution_count": 72,
   "id": "140cdd23-3a77-472b-ae56-09d9904cc609",
   "metadata": {},
   "outputs": [],
   "source": [
    "idx2drop = dist_df.loc[dist_df.file_name.isin(file_missing_cap)].index"
   ]
  },
  {
   "cell_type": "code",
   "execution_count": 91,
   "id": "ad1abed3-ebdc-4cf7-a6b6-b33a1bab7416",
   "metadata": {},
   "outputs": [
    {
     "data": {
      "text/plain": [
       "(39445, 3)"
      ]
     },
     "execution_count": 91,
     "metadata": {},
     "output_type": "execute_result"
    }
   ],
   "source": [
    "# Dữ liệu có đủ ảnh và 5 caption\n",
    "dist_df = dist_df.drop(idx2drop, axis=0)\n",
    "dist_df.shape"
   ]
  },
  {
   "cell_type": "code",
   "execution_count": 184,
   "id": "c4bb236b-b2d4-4556-b6f4-02adf5fc5c8e",
   "metadata": {},
   "outputs": [],
   "source": [
    "file_to_trans = list(file_no_cap)[:63]"
   ]
  },
  {
   "cell_type": "code",
   "execution_count": 185,
   "id": "41134a76-25c1-4b97-91cc-7a621aff90b2",
   "metadata": {},
   "outputs": [
    {
     "data": {
      "text/plain": [
       "63"
      ]
     },
     "execution_count": 185,
     "metadata": {},
     "output_type": "execute_result"
    }
   ],
   "source": [
    "len(file_to_trans)"
   ]
  },
  {
   "cell_type": "code",
   "execution_count": 186,
   "id": "b162fa4f-0c0e-4e8e-bf7b-54ccbec7b39c",
   "metadata": {},
   "outputs": [
    {
     "data": {
      "text/html": [
       "<div>\n",
       "<style scoped>\n",
       "    .dataframe tbody tr th:only-of-type {\n",
       "        vertical-align: middle;\n",
       "    }\n",
       "\n",
       "    .dataframe tbody tr th {\n",
       "        vertical-align: top;\n",
       "    }\n",
       "\n",
       "    .dataframe thead th {\n",
       "        text-align: right;\n",
       "    }\n",
       "</style>\n",
       "<table border=\"1\" class=\"dataframe\">\n",
       "  <thead>\n",
       "    <tr style=\"text-align: right;\">\n",
       "      <th></th>\n",
       "      <th>image</th>\n",
       "      <th>caption</th>\n",
       "    </tr>\n",
       "  </thead>\n",
       "  <tbody>\n",
       "    <tr>\n",
       "      <th>0</th>\n",
       "      <td>1000268201_693b08cb0e.jpg</td>\n",
       "      <td>A child in a pink dress is climbing up a set o...</td>\n",
       "    </tr>\n",
       "    <tr>\n",
       "      <th>1</th>\n",
       "      <td>1000268201_693b08cb0e.jpg</td>\n",
       "      <td>A girl going into a wooden building .</td>\n",
       "    </tr>\n",
       "    <tr>\n",
       "      <th>2</th>\n",
       "      <td>1000268201_693b08cb0e.jpg</td>\n",
       "      <td>A little girl climbing into a wooden playhouse .</td>\n",
       "    </tr>\n",
       "    <tr>\n",
       "      <th>3</th>\n",
       "      <td>1000268201_693b08cb0e.jpg</td>\n",
       "      <td>A little girl climbing the stairs to her playh...</td>\n",
       "    </tr>\n",
       "    <tr>\n",
       "      <th>4</th>\n",
       "      <td>1000268201_693b08cb0e.jpg</td>\n",
       "      <td>A little girl in a pink dress going into a woo...</td>\n",
       "    </tr>\n",
       "  </tbody>\n",
       "</table>\n",
       "</div>"
      ],
      "text/plain": [
       "                       image  \\\n",
       "0  1000268201_693b08cb0e.jpg   \n",
       "1  1000268201_693b08cb0e.jpg   \n",
       "2  1000268201_693b08cb0e.jpg   \n",
       "3  1000268201_693b08cb0e.jpg   \n",
       "4  1000268201_693b08cb0e.jpg   \n",
       "\n",
       "                                             caption  \n",
       "0  A child in a pink dress is climbing up a set o...  \n",
       "1              A girl going into a wooden building .  \n",
       "2   A little girl climbing into a wooden playhouse .  \n",
       "3  A little girl climbing the stairs to her playh...  \n",
       "4  A little girl in a pink dress going into a woo...  "
      ]
     },
     "execution_count": 186,
     "metadata": {},
     "output_type": "execute_result"
    }
   ],
   "source": [
    "en_cap = pd.read_csv('data/captions.txt')\n",
    "en_cap.head()"
   ]
  },
  {
   "cell_type": "code",
   "execution_count": 187,
   "id": "66bdedcf-919d-46bf-99f6-c12be0f8c4b2",
   "metadata": {},
   "outputs": [],
   "source": [
    "from googletrans import Translator\n",
    "import time\n",
    "def dich(x):\n",
    "    translator = Translator()\n",
    "    translator= translator.translate(x,dest='vi')\n",
    "    return translator.text"
   ]
  },
  {
   "cell_type": "code",
   "execution_count": 251,
   "id": "d698b575-3779-4ba9-9304-a373e745c6b4",
   "metadata": {},
   "outputs": [],
   "source": [
    "def rm_punct(text):\n",
    "    my_punct = '\\r[!\"\\#\\$%\\&\\(\\)\\*\\+,/:;<=>\\?@\\[\\\\\\]\\^_—`\\{\\|\\}\\~»«“”]\\''\n",
    "    trans = str.maketrans('', '', my_punct)\n",
    "    return text.translate(trans)"
   ]
  },
  {
   "cell_type": "code",
   "execution_count": 189,
   "id": "fb4b2b3e-59f5-4ccf-8949-affafcf48908",
   "metadata": {},
   "outputs": [
    {
     "name": "stdout",
     "output_type": "stream",
     "text": [
      "463978865_c87c6ca84c.jpg: oke\n",
      "3457604528_302396c08c.jpg: oke\n",
      "3132832452_c354c6396c.jpg: oke\n",
      "1260816604_570fc35836.jpg: oke\n",
      "2467803152_70eeca1334.jpg: oke\n",
      "3070485870_eab1a75c6f.jpg: oke\n",
      "314940358_ec1958dc1d.jpg: oke\n",
      "2972929655_04233b5489.jpg: oke\n",
      "2522230304_1581d52961.jpg: oke\n",
      "3400135828_0ac128b6eb.jpg: oke\n",
      "3189002057_3ef61b803e.jpg: oke\n",
      "2754898893_95239c1f19.jpg: oke\n",
      "1659396176_ced00a549f.jpg: oke\n",
      "2303016989_0deb96c8d9.jpg: oke\n",
      "2913972180_547783dd3d.jpg: oke\n",
      "3000722396_1ae2e976c2.jpg: oke\n",
      "1347519824_e402241e4f.jpg: oke\n",
      "2684489465_32ba1d0344.jpg: oke\n",
      "3430100177_5864bf1e73.jpg: oke\n",
      "157139628_5dc483e2e4.jpg: oke\n",
      "2410562803_56ec09f41c.jpg: oke\n",
      "3379839396_0cd84b55f1.jpg: oke\n",
      "3576312396_799c873f3e.jpg: oke\n",
      "2700147489_f1664f2b61.jpg: oke\n",
      "3547524138_4157f660b0.jpg: oke\n",
      "3215315009_47577bf8f7.jpg: oke\n",
      "218342358_1755a9cce1.jpg: oke\n",
      "3330935489_9cb67ca36b.jpg: oke\n",
      "3118505332_b0792489b5.jpg: oke\n",
      "2559114800_17310f3015.jpg: oke\n",
      "2752923489_d3bceebacb.jpg: oke\n",
      "3712742641_641282803e.jpg: oke\n",
      "534875358_6ea30d3091.jpg: oke\n",
      "2685788323_ceab14534a.jpg: oke\n",
      "3462396164_ba9849c14b.jpg: oke\n",
      "3068735836_872fba3068.jpg: oke\n",
      "470903027_489cc507de.jpg: oke\n",
      "1248940539_46d33ed487.jpg: oke\n",
      "3099965396_2a0018cb9e.jpg: oke\n",
      "2842439618_fb20fe2215.jpg: oke\n",
      "3633396324_c4b24b1f51.jpg: oke\n",
      "265528702_8653eab9fa.jpg: oke\n",
      "524310507_51220580de.jpg: oke\n",
      "3544803461_a418ca611e.jpg: oke\n",
      "1472230829_803818a383.jpg: oke\n",
      "241347803_afb04b12c4.jpg: oke\n",
      "476233374_e1396998ef.jpg: oke\n",
      "2439384468_58934deab6.jpg: oke\n",
      "3497238310_2abde3965d.jpg: oke\n",
      "1335617803_4fbc03dab0.jpg: oke\n",
      "1984936420_3f3102132b.jpg: oke\n",
      "2735290454_1bd8bc5eac.jpg: oke\n",
      "2689358407_9932f1b20c.jpg: oke\n",
      "475980315_b8ecd50094.jpg: oke\n",
      "3088399255_1bd9a6aa04.jpg: oke\n",
      "2493974889_50ae29f1e1.jpg: oke\n",
      "478592803_f57cc9c461.jpg: oke\n",
      "3353962769_ba48691bc6.jpg: oke\n",
      "3214579977_fa9fb006a6.jpg: oke\n",
      "3039675864_0b7961844d.jpg: oke\n",
      "2284894733_b710b9b106.jpg: oke\n",
      "2839789830_89668775a4.jpg: oke\n",
      "1348947380_14f0fc1237.jpg: oke\n"
     ]
    }
   ],
   "source": [
    "tmp_df = pd.DataFrame(columns=['filename', 'captions'])\n",
    "\n",
    "for i in file_to_trans:\n",
    "    texts = en_cap.loc[en_cap['image']==i, 'caption'].values\n",
    "    texts_out = [rm_punct(i).strip() for i in texts]\n",
    "    b = dich(texts)\n",
    "    d = {'filename':[i],'captions':b}\n",
    "    df_2= pd.DataFrame(data=d)\n",
    "    print(i + ': oke')\n",
    "    tmp_df = pd.concat([tmp_df,df_2])\n",
    "    time.sleep(3)"
   ]
  },
  {
   "cell_type": "code",
   "execution_count": 190,
   "id": "5de5296e-7f8b-45d6-b4cb-81dc69567450",
   "metadata": {},
   "outputs": [],
   "source": [
    "tmp_df.reset_index(drop=True, inplace=True)"
   ]
  },
  {
   "cell_type": "code",
   "execution_count": 199,
   "id": "e41332a3-951d-4eb4-bb16-eb8725c1a614",
   "metadata": {},
   "outputs": [],
   "source": [
    "tmp_df.to_csv('data/tmp_df.txt', index=False, header=True)"
   ]
  },
  {
   "cell_type": "code",
   "execution_count": 130,
   "id": "27af3000-525a-4a8f-9fe7-ea434cccb5ee",
   "metadata": {},
   "outputs": [
    {
     "data": {
      "text/plain": [
       "(49, 2)"
      ]
     },
     "execution_count": 130,
     "metadata": {},
     "output_type": "execute_result"
    }
   ],
   "source": [
    "missing = pd.read_csv('data/abcde.csv')\n",
    "missing.shape"
   ]
  },
  {
   "cell_type": "code",
   "execution_count": 132,
   "id": "de873854-843c-402b-8d01-cfb2881fa6df",
   "metadata": {},
   "outputs": [],
   "source": []
  },
  {
   "cell_type": "code",
   "execution_count": 133,
   "id": "091f425d-66cd-498f-947e-f7d2a32940ee",
   "metadata": {
    "tags": []
   },
   "outputs": [],
   "source": [
    "def tao_df(file_missing_cap, df):\n",
    "    final = pd.DataFrame(\n",
    "        columns=['filename', 'nums', 'captions']\n",
    "    )\n",
    "    \n",
    "    num = ['#' + str(i) for i in range(5)]\n",
    "    for idx, row in enumerate(file_missing_cap):\n",
    "        tmp = pd.DataFrame({\n",
    "            'filename': [row] * 5,\n",
    "            'nums': num,\n",
    "            'captions': rm_punct(df.loc[idx, 'captions']).split('\\n')\n",
    "        })\n",
    "        final = pd.concat([final, tmp])\n",
    "    final.reset_index(drop=True, inplace=True)\n",
    "    final['captions'] = final['captions'].apply(rm_punct)\n",
    "    return final"
   ]
  },
  {
   "cell_type": "code",
   "execution_count": 138,
   "id": "ad32ac68-181e-4096-a70e-fd399787358e",
   "metadata": {},
   "outputs": [
    {
     "data": {
      "text/html": [
       "<div>\n",
       "<style scoped>\n",
       "    .dataframe tbody tr th:only-of-type {\n",
       "        vertical-align: middle;\n",
       "    }\n",
       "\n",
       "    .dataframe tbody tr th {\n",
       "        vertical-align: top;\n",
       "    }\n",
       "\n",
       "    .dataframe thead th {\n",
       "        text-align: right;\n",
       "    }\n",
       "</style>\n",
       "<table border=\"1\" class=\"dataframe\">\n",
       "  <thead>\n",
       "    <tr style=\"text-align: right;\">\n",
       "      <th></th>\n",
       "      <th>filename</th>\n",
       "      <th>nums</th>\n",
       "      <th>captions</th>\n",
       "    </tr>\n",
       "  </thead>\n",
       "  <tbody>\n",
       "    <tr>\n",
       "      <th>0</th>\n",
       "      <td>1332722096_1e3de8ae70.jpg</td>\n",
       "      <td>#0</td>\n",
       "      <td>Ba người phụ nữ đứng trên một con phố trong th...</td>\n",
       "    </tr>\n",
       "    <tr>\n",
       "      <th>1</th>\n",
       "      <td>1332722096_1e3de8ae70.jpg</td>\n",
       "      <td>#1</td>\n",
       "      <td>Ba người phụ nữ đi bộ xuống phố.</td>\n",
       "    </tr>\n",
       "    <tr>\n",
       "      <th>2</th>\n",
       "      <td>1332722096_1e3de8ae70.jpg</td>\n",
       "      <td>#2</td>\n",
       "      <td>Hai cô gái và một người phụ nữ đi bộ trên vỉa hè</td>\n",
       "    </tr>\n",
       "    <tr>\n",
       "      <th>3</th>\n",
       "      <td>1332722096_1e3de8ae70.jpg</td>\n",
       "      <td>#3</td>\n",
       "      <td>Hai cô gái đi ủng màu xanh lá cây tươi sáng v...</td>\n",
       "    </tr>\n",
       "    <tr>\n",
       "      <th>4</th>\n",
       "      <td>1332722096_1e3de8ae70.jpg</td>\n",
       "      <td>#4</td>\n",
       "      <td>Hai cô gái trẻ đi ủng màu xanh lá cây đang đi...</td>\n",
       "    </tr>\n",
       "    <tr>\n",
       "      <th>...</th>\n",
       "      <td>...</td>\n",
       "      <td>...</td>\n",
       "      <td>...</td>\n",
       "    </tr>\n",
       "    <tr>\n",
       "      <th>240</th>\n",
       "      <td>900144365_03cd1899e3.jpg</td>\n",
       "      <td>#0</td>\n",
       "      <td>Một cô gái mặc đồ đen dẫn đầu trong một cuộc đ...</td>\n",
       "    </tr>\n",
       "    <tr>\n",
       "      <th>241</th>\n",
       "      <td>900144365_03cd1899e3.jpg</td>\n",
       "      <td>#1</td>\n",
       "      <td>Các vận động viên chạy marathon đang chạy đua...</td>\n",
       "    </tr>\n",
       "    <tr>\n",
       "      <th>242</th>\n",
       "      <td>900144365_03cd1899e3.jpg</td>\n",
       "      <td>#2</td>\n",
       "      <td>Người chạy trong cuộc đua chạy trên một con p...</td>\n",
       "    </tr>\n",
       "    <tr>\n",
       "      <th>243</th>\n",
       "      <td>900144365_03cd1899e3.jpg</td>\n",
       "      <td>#3</td>\n",
       "      <td>Những vận động viên đang thi đấu chạy nước rú...</td>\n",
       "    </tr>\n",
       "    <tr>\n",
       "      <th>244</th>\n",
       "      <td>900144365_03cd1899e3.jpg</td>\n",
       "      <td>#4</td>\n",
       "      <td>Hai nữ vận động viên mặc quần đùi và áo lót t...</td>\n",
       "    </tr>\n",
       "  </tbody>\n",
       "</table>\n",
       "<p>245 rows × 3 columns</p>\n",
       "</div>"
      ],
      "text/plain": [
       "                      filename nums  \\\n",
       "0    1332722096_1e3de8ae70.jpg   #0   \n",
       "1    1332722096_1e3de8ae70.jpg   #1   \n",
       "2    1332722096_1e3de8ae70.jpg   #2   \n",
       "3    1332722096_1e3de8ae70.jpg   #3   \n",
       "4    1332722096_1e3de8ae70.jpg   #4   \n",
       "..                         ...  ...   \n",
       "240   900144365_03cd1899e3.jpg   #0   \n",
       "241   900144365_03cd1899e3.jpg   #1   \n",
       "242   900144365_03cd1899e3.jpg   #2   \n",
       "243   900144365_03cd1899e3.jpg   #3   \n",
       "244   900144365_03cd1899e3.jpg   #4   \n",
       "\n",
       "                                              captions  \n",
       "0    Ba người phụ nữ đứng trên một con phố trong th...  \n",
       "1                     Ba người phụ nữ đi bộ xuống phố.  \n",
       "2     Hai cô gái và một người phụ nữ đi bộ trên vỉa hè  \n",
       "3     Hai cô gái đi ủng màu xanh lá cây tươi sáng v...  \n",
       "4     Hai cô gái trẻ đi ủng màu xanh lá cây đang đi...  \n",
       "..                                                 ...  \n",
       "240  Một cô gái mặc đồ đen dẫn đầu trong một cuộc đ...  \n",
       "241   Các vận động viên chạy marathon đang chạy đua...  \n",
       "242   Người chạy trong cuộc đua chạy trên một con p...  \n",
       "243   Những vận động viên đang thi đấu chạy nước rú...  \n",
       "244   Hai nữ vận động viên mặc quần đùi và áo lót t...  \n",
       "\n",
       "[245 rows x 3 columns]"
      ]
     },
     "execution_count": 138,
     "metadata": {},
     "output_type": "execute_result"
    }
   ],
   "source": [
    "tao_df(file_missing_cap, missing)"
   ]
  },
  {
   "cell_type": "code",
   "execution_count": 208,
   "id": "32230240-04a9-438b-af5b-e7d2d67a580c",
   "metadata": {},
   "outputs": [],
   "source": [
    "tmp_df = pd.read_csv('data/tmp_df.txt')"
   ]
  },
  {
   "cell_type": "code",
   "execution_count": 205,
   "id": "f40a3b6d-0a1a-4f90-a0ac-681b8bca7580",
   "metadata": {},
   "outputs": [
    {
     "data": {
      "text/html": [
       "<div>\n",
       "<style scoped>\n",
       "    .dataframe tbody tr th:only-of-type {\n",
       "        vertical-align: middle;\n",
       "    }\n",
       "\n",
       "    .dataframe tbody tr th {\n",
       "        vertical-align: top;\n",
       "    }\n",
       "\n",
       "    .dataframe thead th {\n",
       "        text-align: right;\n",
       "    }\n",
       "</style>\n",
       "<table border=\"1\" class=\"dataframe\">\n",
       "  <thead>\n",
       "    <tr style=\"text-align: right;\">\n",
       "      <th></th>\n",
       "      <th>filename</th>\n",
       "      <th>captions</th>\n",
       "      <th>counts</th>\n",
       "    </tr>\n",
       "  </thead>\n",
       "  <tbody>\n",
       "    <tr>\n",
       "      <th>0</th>\n",
       "      <td>463978865_c87c6ca84c.jpg</td>\n",
       "      <td>['Một người đàn ông ngồi bên trái gần một ngườ...</td>\n",
       "      <td>5</td>\n",
       "    </tr>\n",
       "    <tr>\n",
       "      <th>1</th>\n",
       "      <td>3457604528_302396c08c.jpg</td>\n",
       "      <td>['Một cô bé mặc áo đỏ thả diều. \"\\r\\n 'Một cô ...</td>\n",
       "      <td>5</td>\n",
       "    </tr>\n",
       "    <tr>\n",
       "      <th>2</th>\n",
       "      <td>3132832452_c354c6396c.jpg</td>\n",
       "      <td>[\"Một ​​gia đình vây quanh đứa trẻ trong lòng ...</td>\n",
       "      <td>5</td>\n",
       "    </tr>\n",
       "    <tr>\n",
       "      <th>3</th>\n",
       "      <td>1260816604_570fc35836.jpg</td>\n",
       "      <td>['Một người lái một chiếc xe hơi màu đỏ. \"\\r\\n...</td>\n",
       "      <td>5</td>\n",
       "    </tr>\n",
       "    <tr>\n",
       "      <th>4</th>\n",
       "      <td>2467803152_70eeca1334.jpg</td>\n",
       "      <td>['Một con chó lớn màu nâu chạy với một cây gậy...</td>\n",
       "      <td>5</td>\n",
       "    </tr>\n",
       "    <tr>\n",
       "      <th>...</th>\n",
       "      <td>...</td>\n",
       "      <td>...</td>\n",
       "      <td>...</td>\n",
       "    </tr>\n",
       "    <tr>\n",
       "      <th>58</th>\n",
       "      <td>3214579977_fa9fb006a6.jpg</td>\n",
       "      <td>['Một con chó đen nhảy trong tuyết. \"\\r\\n 'Một...</td>\n",
       "      <td>5</td>\n",
       "    </tr>\n",
       "    <tr>\n",
       "      <th>59</th>\n",
       "      <td>3039675864_0b7961844d.jpg</td>\n",
       "      <td>['Một người đàn ông đi xe máy xuống vỉa hè. \"\\...</td>\n",
       "      <td>5</td>\n",
       "    </tr>\n",
       "    <tr>\n",
       "      <th>60</th>\n",
       "      <td>2284894733_b710b9b106.jpg</td>\n",
       "      <td>['Một con chó nâu gầm gừ.'\\r\\n 'Một con chó nâ...</td>\n",
       "      <td>5</td>\n",
       "    </tr>\n",
       "    <tr>\n",
       "      <th>61</th>\n",
       "      <td>2839789830_89668775a4.jpg</td>\n",
       "      <td>['Một con chó đen và trắng bắt Frisbee trên mộ...</td>\n",
       "      <td>5</td>\n",
       "    </tr>\n",
       "    <tr>\n",
       "      <th>62</th>\n",
       "      <td>1348947380_14f0fc1237.jpg</td>\n",
       "      <td>['Một người đàn ông và một con chó đứng trên đ...</td>\n",
       "      <td>5</td>\n",
       "    </tr>\n",
       "  </tbody>\n",
       "</table>\n",
       "<p>63 rows × 3 columns</p>\n",
       "</div>"
      ],
      "text/plain": [
       "                     filename  \\\n",
       "0    463978865_c87c6ca84c.jpg   \n",
       "1   3457604528_302396c08c.jpg   \n",
       "2   3132832452_c354c6396c.jpg   \n",
       "3   1260816604_570fc35836.jpg   \n",
       "4   2467803152_70eeca1334.jpg   \n",
       "..                        ...   \n",
       "58  3214579977_fa9fb006a6.jpg   \n",
       "59  3039675864_0b7961844d.jpg   \n",
       "60  2284894733_b710b9b106.jpg   \n",
       "61  2839789830_89668775a4.jpg   \n",
       "62  1348947380_14f0fc1237.jpg   \n",
       "\n",
       "                                             captions  counts  \n",
       "0   ['Một người đàn ông ngồi bên trái gần một ngườ...       5  \n",
       "1   ['Một cô bé mặc áo đỏ thả diều. \"\\r\\n 'Một cô ...       5  \n",
       "2   [\"Một ​​gia đình vây quanh đứa trẻ trong lòng ...       5  \n",
       "3   ['Một người lái một chiếc xe hơi màu đỏ. \"\\r\\n...       5  \n",
       "4   ['Một con chó lớn màu nâu chạy với một cây gậy...       5  \n",
       "..                                                ...     ...  \n",
       "58  ['Một con chó đen nhảy trong tuyết. \"\\r\\n 'Một...       5  \n",
       "59  ['Một người đàn ông đi xe máy xuống vỉa hè. \"\\...       5  \n",
       "60  ['Một con chó nâu gầm gừ.'\\r\\n 'Một con chó nâ...       5  \n",
       "61  ['Một con chó đen và trắng bắt Frisbee trên mộ...       5  \n",
       "62  ['Một người đàn ông và một con chó đứng trên đ...       5  \n",
       "\n",
       "[63 rows x 3 columns]"
      ]
     },
     "execution_count": 205,
     "metadata": {},
     "output_type": "execute_result"
    }
   ],
   "source": [
    "tmp_df['counts'] = tmp_df['captions'].apply(lambda x: len(x.split('\\n')))\n",
    "tmp_df"
   ]
  },
  {
   "cell_type": "code",
   "execution_count": 209,
   "id": "85bfac7b-75ff-4a5c-b121-7328d52c85ef",
   "metadata": {},
   "outputs": [],
   "source": [
    "final = pd.concat([tao_df(file_missing_cap, missing), tao_df(file_to_trans, tmp_df)])"
   ]
  },
  {
   "cell_type": "code",
   "execution_count": 219,
   "id": "0a9c8be5-fef1-417d-92bb-0db7d25335ab",
   "metadata": {},
   "outputs": [],
   "source": [
    "final.columns = ['file_name', 'nums', 'caps']"
   ]
  },
  {
   "cell_type": "code",
   "execution_count": 222,
   "id": "52caafb0-a27d-4379-a1e9-01ea09f02860",
   "metadata": {},
   "outputs": [],
   "source": [
    "data = pd.concat([final, dist_df])"
   ]
  },
  {
   "cell_type": "code",
   "execution_count": 229,
   "id": "0b1811b3-1376-4cd3-8887-d014ed852cbb",
   "metadata": {},
   "outputs": [],
   "source": [
    "data.reset_index(drop=True, inplace=True)"
   ]
  },
  {
   "cell_type": "code",
   "execution_count": 236,
   "id": "d9cda9e7-748f-41ae-b669-cee0f8c94603",
   "metadata": {},
   "outputs": [],
   "source": [
    "data = data.loc[:39999]"
   ]
  },
  {
   "cell_type": "code",
   "execution_count": 244,
   "id": "e7b5521c-6383-4f95-a32f-0cde29cfadb8",
   "metadata": {},
   "outputs": [],
   "source": [
    "data.to_csv('data/new_captions_vi.csv', index=False, header=True, encoding='utf-8-sig')"
   ]
  },
  {
   "cell_type": "code",
   "execution_count": 245,
   "id": "d98e5e79-f451-4659-aa32-20a1763e321c",
   "metadata": {},
   "outputs": [
    {
     "data": {
      "text/html": [
       "<div>\n",
       "<style scoped>\n",
       "    .dataframe tbody tr th:only-of-type {\n",
       "        vertical-align: middle;\n",
       "    }\n",
       "\n",
       "    .dataframe tbody tr th {\n",
       "        vertical-align: top;\n",
       "    }\n",
       "\n",
       "    .dataframe thead th {\n",
       "        text-align: right;\n",
       "    }\n",
       "</style>\n",
       "<table border=\"1\" class=\"dataframe\">\n",
       "  <thead>\n",
       "    <tr style=\"text-align: right;\">\n",
       "      <th></th>\n",
       "      <th>file_name</th>\n",
       "      <th>nums</th>\n",
       "      <th>caps</th>\n",
       "    </tr>\n",
       "  </thead>\n",
       "  <tbody>\n",
       "    <tr>\n",
       "      <th>0</th>\n",
       "      <td>1332722096_1e3de8ae70.jpg</td>\n",
       "      <td>#0</td>\n",
       "      <td>Ba người phụ nữ đứng trên một con phố trong th...</td>\n",
       "    </tr>\n",
       "    <tr>\n",
       "      <th>1</th>\n",
       "      <td>1332722096_1e3de8ae70.jpg</td>\n",
       "      <td>#1</td>\n",
       "      <td>Ba người phụ nữ đi bộ xuống phố\\r</td>\n",
       "    </tr>\n",
       "    <tr>\n",
       "      <th>2</th>\n",
       "      <td>1332722096_1e3de8ae70.jpg</td>\n",
       "      <td>#2</td>\n",
       "      <td>Hai cô gái và một người phụ nữ đi bộ trên vỉa...</td>\n",
       "    </tr>\n",
       "    <tr>\n",
       "      <th>3</th>\n",
       "      <td>1332722096_1e3de8ae70.jpg</td>\n",
       "      <td>#3</td>\n",
       "      <td>Hai cô gái đi ủng màu xanh lá cây tươi sáng v...</td>\n",
       "    </tr>\n",
       "    <tr>\n",
       "      <th>4</th>\n",
       "      <td>1332722096_1e3de8ae70.jpg</td>\n",
       "      <td>#4</td>\n",
       "      <td>Hai cô gái trẻ đi ủng màu xanh lá cây đang đi...</td>\n",
       "    </tr>\n",
       "    <tr>\n",
       "      <th>...</th>\n",
       "      <td>...</td>\n",
       "      <td>...</td>\n",
       "      <td>...</td>\n",
       "    </tr>\n",
       "    <tr>\n",
       "      <th>39995</th>\n",
       "      <td>997338199_7343367d7f.jpg</td>\n",
       "      <td>#0</td>\n",
       "      <td>Một người đứng gần những bức tường vàng.</td>\n",
       "    </tr>\n",
       "    <tr>\n",
       "      <th>39996</th>\n",
       "      <td>997338199_7343367d7f.jpg</td>\n",
       "      <td>#1</td>\n",
       "      <td>một phụ nữ đằng sau bức tường cuộn đang viết</td>\n",
       "    </tr>\n",
       "    <tr>\n",
       "      <th>39997</th>\n",
       "      <td>997338199_7343367d7f.jpg</td>\n",
       "      <td>#2</td>\n",
       "      <td>Một người phụ nữ đứng gần bức tường trang trí ...</td>\n",
       "    </tr>\n",
       "    <tr>\n",
       "      <th>39998</th>\n",
       "      <td>997338199_7343367d7f.jpg</td>\n",
       "      <td>#3</td>\n",
       "      <td>Các bức tường được phủ vàng và hoa văn.</td>\n",
       "    </tr>\n",
       "    <tr>\n",
       "      <th>39999</th>\n",
       "      <td>997338199_7343367d7f.jpg</td>\n",
       "      <td>#4</td>\n",
       "      <td>Người phụ nữ viết trên một tấm đệm trong phòng...</td>\n",
       "    </tr>\n",
       "  </tbody>\n",
       "</table>\n",
       "<p>40000 rows × 3 columns</p>\n",
       "</div>"
      ],
      "text/plain": [
       "                       file_name nums  \\\n",
       "0      1332722096_1e3de8ae70.jpg   #0   \n",
       "1      1332722096_1e3de8ae70.jpg   #1   \n",
       "2      1332722096_1e3de8ae70.jpg   #2   \n",
       "3      1332722096_1e3de8ae70.jpg   #3   \n",
       "4      1332722096_1e3de8ae70.jpg   #4   \n",
       "...                          ...  ...   \n",
       "39995   997338199_7343367d7f.jpg   #0   \n",
       "39996   997338199_7343367d7f.jpg   #1   \n",
       "39997   997338199_7343367d7f.jpg   #2   \n",
       "39998   997338199_7343367d7f.jpg   #3   \n",
       "39999   997338199_7343367d7f.jpg   #4   \n",
       "\n",
       "                                                    caps  \n",
       "0      Ba người phụ nữ đứng trên một con phố trong th...  \n",
       "1                      Ba người phụ nữ đi bộ xuống phố\\r  \n",
       "2       Hai cô gái và một người phụ nữ đi bộ trên vỉa...  \n",
       "3       Hai cô gái đi ủng màu xanh lá cây tươi sáng v...  \n",
       "4       Hai cô gái trẻ đi ủng màu xanh lá cây đang đi...  \n",
       "...                                                  ...  \n",
       "39995           Một người đứng gần những bức tường vàng.  \n",
       "39996       một phụ nữ đằng sau bức tường cuộn đang viết  \n",
       "39997  Một người phụ nữ đứng gần bức tường trang trí ...  \n",
       "39998            Các bức tường được phủ vàng và hoa văn.  \n",
       "39999  Người phụ nữ viết trên một tấm đệm trong phòng...  \n",
       "\n",
       "[40000 rows x 3 columns]"
      ]
     },
     "execution_count": 245,
     "metadata": {},
     "output_type": "execute_result"
    }
   ],
   "source": [
    "data"
   ]
  },
  {
   "cell_type": "code",
   "execution_count": 246,
   "id": "05ddb035-d7f4-4294-b9cc-9500f9ab653b",
   "metadata": {},
   "outputs": [
    {
     "data": {
      "text/html": [
       "<div>\n",
       "<style scoped>\n",
       "    .dataframe tbody tr th:only-of-type {\n",
       "        vertical-align: middle;\n",
       "    }\n",
       "\n",
       "    .dataframe tbody tr th {\n",
       "        vertical-align: top;\n",
       "    }\n",
       "\n",
       "    .dataframe thead th {\n",
       "        text-align: right;\n",
       "    }\n",
       "</style>\n",
       "<table border=\"1\" class=\"dataframe\">\n",
       "  <thead>\n",
       "    <tr style=\"text-align: right;\">\n",
       "      <th></th>\n",
       "      <th>file_name</th>\n",
       "      <th>nums</th>\n",
       "      <th>caps</th>\n",
       "    </tr>\n",
       "  </thead>\n",
       "  <tbody>\n",
       "    <tr>\n",
       "      <th>0</th>\n",
       "      <td>1332722096_1e3de8ae70.jpg</td>\n",
       "      <td>#0</td>\n",
       "      <td>Ba người phụ nữ đứng trên một con phố trong th...</td>\n",
       "    </tr>\n",
       "    <tr>\n",
       "      <th>1</th>\n",
       "      <td>1332722096_1e3de8ae70.jpg</td>\n",
       "      <td>#1</td>\n",
       "      <td>Ba người phụ nữ đi bộ xuống phố\\r</td>\n",
       "    </tr>\n",
       "    <tr>\n",
       "      <th>2</th>\n",
       "      <td>1332722096_1e3de8ae70.jpg</td>\n",
       "      <td>#2</td>\n",
       "      <td>Hai cô gái và một người phụ nữ đi bộ trên vỉa...</td>\n",
       "    </tr>\n",
       "    <tr>\n",
       "      <th>3</th>\n",
       "      <td>1332722096_1e3de8ae70.jpg</td>\n",
       "      <td>#3</td>\n",
       "      <td>Hai cô gái đi ủng màu xanh lá cây tươi sáng v...</td>\n",
       "    </tr>\n",
       "    <tr>\n",
       "      <th>4</th>\n",
       "      <td>1332722096_1e3de8ae70.jpg</td>\n",
       "      <td>#4</td>\n",
       "      <td>Hai cô gái trẻ đi ủng màu xanh lá cây đang đi...</td>\n",
       "    </tr>\n",
       "  </tbody>\n",
       "</table>\n",
       "</div>"
      ],
      "text/plain": [
       "                   file_name nums  \\\n",
       "0  1332722096_1e3de8ae70.jpg   #0   \n",
       "1  1332722096_1e3de8ae70.jpg   #1   \n",
       "2  1332722096_1e3de8ae70.jpg   #2   \n",
       "3  1332722096_1e3de8ae70.jpg   #3   \n",
       "4  1332722096_1e3de8ae70.jpg   #4   \n",
       "\n",
       "                                                caps  \n",
       "0  Ba người phụ nữ đứng trên một con phố trong th...  \n",
       "1                  Ba người phụ nữ đi bộ xuống phố\\r  \n",
       "2   Hai cô gái và một người phụ nữ đi bộ trên vỉa...  \n",
       "3   Hai cô gái đi ủng màu xanh lá cây tươi sáng v...  \n",
       "4   Hai cô gái trẻ đi ủng màu xanh lá cây đang đi...  "
      ]
     },
     "execution_count": 246,
     "metadata": {},
     "output_type": "execute_result"
    }
   ],
   "source": [
    "conmeno = pd.read_csv('data/new_captions_vi.csv')\n",
    "conmeno.head()"
   ]
  },
  {
   "cell_type": "code",
   "execution_count": 255,
   "id": "b0db314f-9e62-45aa-b17a-720753e7413d",
   "metadata": {},
   "outputs": [],
   "source": [
    "conmeno['caps'] = conmeno['caps'].apply(rm_punct)"
   ]
  },
  {
   "cell_type": "code",
   "execution_count": 256,
   "id": "f742172b-4fdf-4360-8562-d895197bf6fc",
   "metadata": {},
   "outputs": [],
   "source": [
    "conmeno.to_csv('data/new_captions_vi.', index=False, header=True, encoding='utf-8-sig')"
   ]
  },
  {
   "cell_type": "code",
   "execution_count": 257,
   "id": "3fa7c98b-87e8-481e-b4e8-f2335922b77c",
   "metadata": {},
   "outputs": [
    {
     "data": {
      "text/html": [
       "<div>\n",
       "<style scoped>\n",
       "    .dataframe tbody tr th:only-of-type {\n",
       "        vertical-align: middle;\n",
       "    }\n",
       "\n",
       "    .dataframe tbody tr th {\n",
       "        vertical-align: top;\n",
       "    }\n",
       "\n",
       "    .dataframe thead th {\n",
       "        text-align: right;\n",
       "    }\n",
       "</style>\n",
       "<table border=\"1\" class=\"dataframe\">\n",
       "  <thead>\n",
       "    <tr style=\"text-align: right;\">\n",
       "      <th></th>\n",
       "      <th>file_name</th>\n",
       "      <th>nums</th>\n",
       "      <th>caps</th>\n",
       "    </tr>\n",
       "  </thead>\n",
       "  <tbody>\n",
       "    <tr>\n",
       "      <th>39995</th>\n",
       "      <td>997338199_7343367d7f.jpg</td>\n",
       "      <td>#0</td>\n",
       "      <td>Một người đứng gần những bức tường vàng.</td>\n",
       "    </tr>\n",
       "    <tr>\n",
       "      <th>39996</th>\n",
       "      <td>997338199_7343367d7f.jpg</td>\n",
       "      <td>#1</td>\n",
       "      <td>một phụ nữ đằng sau bức tường cuộn đang viết</td>\n",
       "    </tr>\n",
       "    <tr>\n",
       "      <th>39997</th>\n",
       "      <td>997338199_7343367d7f.jpg</td>\n",
       "      <td>#2</td>\n",
       "      <td>Một người phụ nữ đứng gần bức tường trang trí ...</td>\n",
       "    </tr>\n",
       "    <tr>\n",
       "      <th>39998</th>\n",
       "      <td>997338199_7343367d7f.jpg</td>\n",
       "      <td>#3</td>\n",
       "      <td>Các bức tường được phủ vàng và hoa văn.</td>\n",
       "    </tr>\n",
       "    <tr>\n",
       "      <th>39999</th>\n",
       "      <td>997338199_7343367d7f.jpg</td>\n",
       "      <td>#4</td>\n",
       "      <td>Người phụ nữ viết trên một tấm đệm trong phòng...</td>\n",
       "    </tr>\n",
       "  </tbody>\n",
       "</table>\n",
       "</div>"
      ],
      "text/plain": [
       "                      file_name nums  \\\n",
       "39995  997338199_7343367d7f.jpg   #0   \n",
       "39996  997338199_7343367d7f.jpg   #1   \n",
       "39997  997338199_7343367d7f.jpg   #2   \n",
       "39998  997338199_7343367d7f.jpg   #3   \n",
       "39999  997338199_7343367d7f.jpg   #4   \n",
       "\n",
       "                                                    caps  \n",
       "39995           Một người đứng gần những bức tường vàng.  \n",
       "39996       một phụ nữ đằng sau bức tường cuộn đang viết  \n",
       "39997  Một người phụ nữ đứng gần bức tường trang trí ...  \n",
       "39998            Các bức tường được phủ vàng và hoa văn.  \n",
       "39999  Người phụ nữ viết trên một tấm đệm trong phòng...  "
      ]
     },
     "execution_count": 257,
     "metadata": {},
     "output_type": "execute_result"
    }
   ],
   "source": [
    "conmeno.tail()"
   ]
  }
 ],
 "metadata": {
  "kernelspec": {
   "display_name": "Python 3 (ipykernel)",
   "language": "python",
   "name": "python3"
  },
  "language_info": {
   "codemirror_mode": {
    "name": "ipython",
    "version": 3
   },
   "file_extension": ".py",
   "mimetype": "text/x-python",
   "name": "python",
   "nbconvert_exporter": "python",
   "pygments_lexer": "ipython3",
   "version": "3.9.12"
  }
 },
 "nbformat": 4,
 "nbformat_minor": 5
}
