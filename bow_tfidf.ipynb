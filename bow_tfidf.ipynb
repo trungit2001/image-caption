{
 "cells": [
  {
   "cell_type": "markdown",
   "id": "cda95f45",
   "metadata": {},
   "source": [
    "# BagOfWord"
   ]
  },
  {
   "cell_type": "code",
   "execution_count": 1,
   "id": "7680163b",
   "metadata": {},
   "outputs": [],
   "source": [
    "data = [\n",
    "    'the quick brown fox jumps over the lazy dog',\n",
    "    'never jump over the lazy dog quickly'\n",
    "]"
   ]
  },
  {
   "cell_type": "code",
   "execution_count": 2,
   "id": "f0ad697c-ce3b-44b3-88e5-912df8fbae84",
   "metadata": {},
   "outputs": [],
   "source": [
    "wordset = sorted(set(' '.join(data).split()))\n",
    "bags = {word: idx for idx, word in enumerate(wordset)}\n",
    "\n",
    "def calc_bow(bags, sentence):\n",
    "    list_words = sentence.split()\n",
    "    vec = [0] * len(bags)\n",
    "    for word in list_words:\n",
    "        vec[bags[word]] = list_words.count(word)\n",
    "    return vec"
   ]
  },
  {
   "cell_type": "code",
   "execution_count": 3,
   "id": "c458e2ab-f79b-403f-bb81-7aa7df7ecf86",
   "metadata": {},
   "outputs": [
    {
     "data": {
      "text/plain": [
       "[[1, 1, 1, 0, 1, 1, 0, 1, 1, 0, 2], [0, 1, 0, 1, 0, 1, 1, 1, 0, 1, 1]]"
      ]
     },
     "execution_count": 3,
     "metadata": {},
     "output_type": "execute_result"
    }
   ],
   "source": [
    "[calc_bow(bags, sen) for sen in data]"
   ]
  },
  {
   "cell_type": "markdown",
   "id": "e88c961b",
   "metadata": {},
   "source": [
    "# tf-idf"
   ]
  },
  {
   "cell_type": "code",
   "execution_count": 4,
   "id": "4a9c8d5d",
   "metadata": {},
   "outputs": [],
   "source": [
    "from math import log\n",
    "\n",
    "def tf(t, d):\n",
    "  l_d = d.split()\n",
    "  return l_d.count(t)/len(l_d)\n",
    "\n",
    "def dt(D):\n",
    "  wordset = set(' '.join(D).split())\n",
    "  return {word: sum([word in sen for sen in D]) for word in wordset}\n",
    "\n",
    "def idf(t, D):\n",
    "  return log(len(D)/dt(D).get(t, 1), 10)\n",
    "\n",
    "def tfidf(t, d, D):\n",
    "  return tf(t, d) * idf(t, D)\n",
    "\n",
    "def calc_tfidf(d, D):\n",
    "  return {t: tfidf(t, d, D) for t in dt(D)}"
   ]
  },
  {
   "cell_type": "code",
   "execution_count": 5,
   "id": "2f4c4738",
   "metadata": {},
   "outputs": [
    {
     "data": {
      "text/plain": [
       "{'lazy': 0.0,\n",
       " 'jump': 0.0,\n",
       " 'dog': 0.0,\n",
       " 'never': 0.0,\n",
       " 'over': 0.0,\n",
       " 'the': 0.0,\n",
       " 'fox': 0.033447777295997905,\n",
       " 'quick': 0.0,\n",
       " 'jumps': 0.033447777295997905,\n",
       " 'brown': 0.033447777295997905,\n",
       " 'quickly': 0.0}"
      ]
     },
     "execution_count": 5,
     "metadata": {},
     "output_type": "execute_result"
    }
   ],
   "source": [
    "calc_tfidf(data[0], data)"
   ]
  },
  {
   "cell_type": "code",
   "execution_count": null,
   "id": "9e532525",
   "metadata": {},
   "outputs": [],
   "source": []
  }
 ],
 "metadata": {
  "kernelspec": {
   "display_name": "Python 3 (ipykernel)",
   "language": "python",
   "name": "python3"
  },
  "language_info": {
   "codemirror_mode": {
    "name": "ipython",
    "version": 3
   },
   "file_extension": ".py",
   "mimetype": "text/x-python",
   "name": "python",
   "nbconvert_exporter": "python",
   "pygments_lexer": "ipython3",
   "version": "3.9.12"
  }
 },
 "nbformat": 4,
 "nbformat_minor": 5
}
