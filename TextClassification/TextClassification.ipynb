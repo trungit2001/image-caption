{
 "cells": [
  {
   "cell_type": "code",
   "execution_count": 1,
   "id": "fa384b2c-a5bc-452b-a69a-273868b99425",
   "metadata": {},
   "outputs": [],
   "source": [
    "import re\n",
    "import string\n",
    "import fasttext\n",
    "import numpy as np\n",
    "import pandas as pd\n",
    "import seaborn as sns\n",
    "import tensorflow as tf\n",
    "import matplotlib.pyplot as plt\n",
    "\n",
    "from underthesea import word_tokenize\n",
    "from gensim.models import KeyedVectors, Word2Vec\n",
    "from gensim.utils import simple_preprocess\n",
    "\n",
    "from keras.models import Sequential \n",
    "from keras.initializers import Constant\n",
    "from keras.preprocessing.sequence import pad_sequences\n",
    "from keras.layers import Dense, Embedding, LSTM, Dropout, GRU, Bidirectional\n",
    "\n",
    "from sklearn.model_selection import train_test_split\n",
    "\n",
    "%matplotlib inline"
   ]
  },
  {
   "cell_type": "code",
   "execution_count": 2,
   "id": "ad85bc86-19e8-436c-9d69-7595e813ebfb",
   "metadata": {},
   "outputs": [
    {
     "data": {
      "text/html": [
       "<div>\n",
       "<style scoped>\n",
       "    .dataframe tbody tr th:only-of-type {\n",
       "        vertical-align: middle;\n",
       "    }\n",
       "\n",
       "    .dataframe tbody tr th {\n",
       "        vertical-align: top;\n",
       "    }\n",
       "\n",
       "    .dataframe thead th {\n",
       "        text-align: right;\n",
       "    }\n",
       "</style>\n",
       "<table border=\"1\" class=\"dataframe\">\n",
       "  <thead>\n",
       "    <tr style=\"text-align: right;\">\n",
       "      <th></th>\n",
       "      <th>classes</th>\n",
       "      <th>content</th>\n",
       "    </tr>\n",
       "  </thead>\n",
       "  <tbody>\n",
       "    <tr>\n",
       "      <th>0</th>\n",
       "      <td>0</td>\n",
       "      <td>máy dùng hay bị đơ máy</td>\n",
       "    </tr>\n",
       "    <tr>\n",
       "      <th>1</th>\n",
       "      <td>0</td>\n",
       "      <td>chỉ có dây cáp nguồn không có adapter sao sử d...</td>\n",
       "    </tr>\n",
       "    <tr>\n",
       "      <th>2</th>\n",
       "      <td>0</td>\n",
       "      <td>Chất lượng quá kém Mới dùng được 2 ngày loa ba...</td>\n",
       "    </tr>\n",
       "    <tr>\n",
       "      <th>3</th>\n",
       "      <td>0</td>\n",
       "      <td>Usb tôi vừa mới nhận usb này Rất bực bội vì cá...</td>\n",
       "    </tr>\n",
       "    <tr>\n",
       "      <th>4</th>\n",
       "      <td>2</td>\n",
       "      <td>Tuyệt vời. Hàng FPT cửa hàng</td>\n",
       "    </tr>\n",
       "  </tbody>\n",
       "</table>\n",
       "</div>"
      ],
      "text/plain": [
       "   classes                                            content\n",
       "0        0                             máy dùng hay bị đơ máy\n",
       "1        0  chỉ có dây cáp nguồn không có adapter sao sử d...\n",
       "2        0  Chất lượng quá kém Mới dùng được 2 ngày loa ba...\n",
       "3        0  Usb tôi vừa mới nhận usb này Rất bực bội vì cá...\n",
       "4        2                       Tuyệt vời. Hàng FPT cửa hàng"
      ]
     },
     "execution_count": 2,
     "metadata": {},
     "output_type": "execute_result"
    }
   ],
   "source": [
    "data = pd.read_csv('data/train.csv', header=None, names=['classes', 'content'])\n",
    "data.head()"
   ]
  },
  {
   "cell_type": "code",
   "execution_count": 3,
   "id": "2acd7d39-453c-45d5-9864-a8b030e3dd36",
   "metadata": {},
   "outputs": [
    {
     "data": {
      "image/png": "[encoded data removed]",
      "text/plain": [
       "<Figure size 720x432 with 1 Axes>"
      ]
     },
     "metadata": {
      "needs_background": "light"
     },
     "output_type": "display_data"
    }
   ],
   "source": [
    "plt.figure(figsize=(10, 6))\n",
    "x = data['classes'].unique()\n",
    "y = data['classes'].value_counts()\n",
    "sns.barplot(x=x, y=y)\n",
    "plt.xlabel('Lớp')\n",
    "plt.ylabel('Số lượng')\n",
    "plt.show()"
   ]
  },
  {
   "cell_type": "code",
   "execution_count": 4,
   "id": "430b253b-e6b6-4625-9bf0-ba85d807a664",
   "metadata": {},
   "outputs": [],
   "source": [
    "def clean_text(text):\n",
    "    my_punct = '[!\"\\#\\$%\\&\\(\\)\\*\\+,/:;<=>\\?@\\[\\\\\\]\\^_—`.\\{\\|\\}\\~»«“”]'\n",
    "    trans = str.maketrans('', '', my_punct)\n",
    "    text = text.translate(trans)\n",
    "    text = text.lower().split()\n",
    "    text = ' '.join(text)\n",
    "    return text\n",
    "\n",
    "def remove_emojis(string):\n",
    "    emoj = re.compile(\"[\"\n",
    "        u\"\\U0001F600-\\U0001F64F\"  # emoticons\n",
    "        u\"\\U0001F300-\\U0001F5FF\"  # symbols & pictographs\n",
    "        u\"\\U0001F680-\\U0001F6FF\"  # transport & map symbols\n",
    "        u\"\\U0001F1E0-\\U0001F1FF\"  # flags (iOS)\n",
    "        u\"\\U00002500-\\U00002BEF\"  # chinese char\n",
    "        u\"\\U00002702-\\U000027B0\"\n",
    "        u\"\\U00002702-\\U000027B0\"\n",
    "        u\"\\U000024C2-\\U0001F251\"\n",
    "        u\"\\U0001f926-\\U0001f937\"\n",
    "        u\"\\U00010000-\\U0010ffff\"\n",
    "        u\"\\u2640-\\u2642\" \n",
    "        u\"\\u2600-\\u2B55\"\n",
    "        u\"\\u200d\"\n",
    "        u\"\\u23cf\"\n",
    "        u\"\\u23e9\"\n",
    "        u\"\\u231a\"\n",
    "        u\"\\ufe0f\" \n",
    "        u\"\\u3030\"\n",
    "                      \"]+\", re.UNICODE)\n",
    "    return re.sub(emoj, '', string)\n",
    "\n",
    "data['content'] = data['content'].map(lambda x: clean_text(x))\n",
    "data['content'] = data['content'].map(lambda x: remove_emojis(x))"
   ]
  },
  {
   "cell_type": "code",
   "execution_count": 5,
   "id": "f826f64b-fdbb-47e9-af64-07bfdcdfc73d",
   "metadata": {},
   "outputs": [],
   "source": [
    "original_stopwords = ['tiki']\n",
    "\n",
    "def create_stopwords(path):\n",
    "    with open(path, encoding='utf-8') as words:\n",
    "        return [w[:len(w) - 1] for w in words] + original_stopwords\n",
    "    \n",
    "stopwords = create_stopwords('data/vietnamese_stopwords_dash.txt')"
   ]
  },
  {
   "cell_type": "code",
   "execution_count": 6,
   "id": "a656dbf9-1e99-4d5d-9f56-f4045a6f5656",
   "metadata": {},
   "outputs": [],
   "source": [
    "def word_preprocessing(sen):\n",
    "    sen = \" \".join(simple_preprocess(sen))\n",
    "    sen = [w for w in word_tokenize(sen.lower(), format='text').split() \\\n",
    "         if w not in stopwords]\n",
    "    return [w for w in sen if w != '']"
   ]
  },
  {
   "cell_type": "code",
   "execution_count": 7,
   "id": "ad4b0f54-1b5d-4dc7-8702-a8058f4ac67f",
   "metadata": {},
   "outputs": [],
   "source": [
    "corpus = data['content'].values.tolist()\n",
    "corpus = list(map(word_preprocessing, corpus))"
   ]
  },
  {
   "cell_type": "code",
   "execution_count": 8,
   "id": "d35d2114-b0ef-46e1-bc04-f96d71d7045e",
   "metadata": {
    "tags": []
   },
   "outputs": [],
   "source": [
    "data['list_words'] = corpus\n",
    "data['count'] = data['list_words'].map(lambda x: len(x))"
   ]
  },
  {
   "cell_type": "code",
   "execution_count": 9,
   "id": "b71f9cae-a91d-44f9-80e6-22da8ea9d9c3",
   "metadata": {},
   "outputs": [
    {
     "data": {
      "image/png": "[encoded data removed]",
      "text/plain": [
       "<Figure size 864x432 with 1 Axes>"
      ]
     },
     "metadata": {
      "needs_background": "light"
     },
     "output_type": "display_data"
    }
   ],
   "source": [
    "plt.figure(figsize=(12, 6))\n",
    "data['count'].hist();"
   ]
  },
  {
   "cell_type": "code",
   "execution_count": 10,
   "id": "081ab596-e3b6-4716-b293-8bfba69c95a0",
   "metadata": {},
   "outputs": [
    {
     "name": "stdout",
     "output_type": "stream",
     "text": [
      "vocab size: 3718\n",
      "max lenghts: 183\n"
     ]
    }
   ],
   "source": [
    "vocab, index = {}, 1\n",
    "vocab['<pad>'] = 0\n",
    "max_words = 0\n",
    "\n",
    "for sen in corpus:\n",
    "    for word in sen:\n",
    "        if word not in vocab:\n",
    "            vocab[word] = len(vocab)\n",
    "    len_sen = len(sen)\n",
    "    if max_words < len_sen:\n",
    "        max_words = len_sen\n",
    "            \n",
    "inverse_vocab = {idx: word for word, idx in vocab.items()}\n",
    "vocab_size = len(vocab)\n",
    "print('vocab size:', vocab_size)\n",
    "print('max lenghts:', max_words)"
   ]
  },
  {
   "cell_type": "code",
   "execution_count": 11,
   "id": "f9d54c85-a79c-4754-a727-29298645e10c",
   "metadata": {},
   "outputs": [],
   "source": [
    "# word2vec = KeyedVectors.load_word2vec_format('data/baomoi.vn.model.bin', binary=True)\n",
    "# word2vec_weights = word2vec.vectors\n",
    "# embedding_dims = word2vec_weights.shape[1]\n",
    "# print('embedding dims:', embedding_dims)"
   ]
  },
  {
   "cell_type": "code",
   "execution_count": 12,
   "id": "4f8c47db-00a6-435b-8b97-19c5751ad2a8",
   "metadata": {},
   "outputs": [],
   "source": [
    "# vocab = word2vec.key_to_index\n",
    "# inverse_vocab = word2vec.index_to_key\n",
    "# vocab_size = len(vocab)\n",
    "# vocab_size"
   ]
  },
  {
   "cell_type": "code",
   "execution_count": 13,
   "id": "45d9154f-3928-45a7-ac49-d154646b9fff",
   "metadata": {},
   "outputs": [],
   "source": [
    "matrix_wv = []\n",
    "for sen in corpus:\n",
    "    matrix_wv.append([vocab[word] for word in sen])"
   ]
  },
  {
   "cell_type": "code",
   "execution_count": 14,
   "id": "de9c404a-4253-49ac-b0b6-22a59c8eea6c",
   "metadata": {},
   "outputs": [
    {
     "data": {
      "text/plain": [
       "array([[   1,    2,    1, ...,    0,    0,    0],\n",
       "       [   3,    4,    3, ...,    0,    0,    0],\n",
       "       [   8,    9,   10, ...,    0,    0,    0],\n",
       "       ...,\n",
       "       [  86,   61,   71, ...,    0,    0,    0],\n",
       "       [  71,    5, 2187, ...,    0,    0,    0],\n",
       "       [  23,   85, 2334, ...,    0,    0,    0]])"
      ]
     },
     "execution_count": 14,
     "metadata": {},
     "output_type": "execute_result"
    }
   ],
   "source": [
    "X = pad_sequences(matrix_wv, maxlen=max_words, value=0, padding='post')\n",
    "X"
   ]
  },
  {
   "cell_type": "code",
   "execution_count": 15,
   "id": "77571d3a-7e2e-496d-a1f2-054bd66612d9",
   "metadata": {},
   "outputs": [
    {
     "data": {
      "text/plain": [
       "array([[1., 0., 0.],\n",
       "       [1., 0., 0.],\n",
       "       [1., 0., 0.],\n",
       "       ...,\n",
       "       [0., 0., 1.],\n",
       "       [1., 0., 0.],\n",
       "       [0., 0., 1.]])"
      ]
     },
     "execution_count": 15,
     "metadata": {},
     "output_type": "execute_result"
    }
   ],
   "source": [
    "y = data['classes']\n",
    "y = pd.get_dummies(y).values.astype(float)\n",
    "y"
   ]
  },
  {
   "cell_type": "code",
   "execution_count": 16,
   "id": "49b8f854-d0a6-46e5-bbe6-5d484d8efa15",
   "metadata": {},
   "outputs": [
    {
     "data": {
      "text/plain": [
       "((2736, 183), (2736, 3), (304, 183), (304, 3))"
      ]
     },
     "execution_count": 16,
     "metadata": {},
     "output_type": "execute_result"
    }
   ],
   "source": [
    "xtrain, xval, ytrain, yval = train_test_split(X, y, test_size=.1, random_state=42)\n",
    "xtrain.shape, ytrain.shape, xval.shape, yval.shape"
   ]
  },
  {
   "cell_type": "code",
   "execution_count": 17,
   "id": "0957b3db-2a07-44f8-b740-a28d3d2791ec",
   "metadata": {},
   "outputs": [
    {
     "name": "stderr",
     "output_type": "stream",
     "text": [
      "Warning : `load_model` does not return WordVectorModel or SupervisedModel any more, but a `FastText` object which is very similar.\n"
     ]
    }
   ],
   "source": [
    "embedding_idx = fasttext.load_model('data/cc.vi.300.bin')"
   ]
  },
  {
   "cell_type": "code",
   "execution_count": 18,
   "id": "30196063-57b0-4fd6-be1a-f050ba589274",
   "metadata": {},
   "outputs": [
    {
     "name": "stdout",
     "output_type": "stream",
     "text": [
      "Converted 3718 words (0 misses)\n"
     ]
    }
   ],
   "source": [
    "embedding_dim = 300\n",
    "hits = 0\n",
    "misses = 0\n",
    "\n",
    "embedding_matrix = np.zeros((vocab_size, embedding_dim))\n",
    "\n",
    "for word, idx in vocab.items():\n",
    "    embedding_vector = embedding_idx[word]\n",
    "    if embedding_vector is not None:\n",
    "        embedding_matrix[idx] = embedding_vector\n",
    "        hits += 1\n",
    "    else:\n",
    "        misses += 1\n",
    "print(\"Converted %d words (%d misses)\" % (hits, misses))"
   ]
  },
  {
   "cell_type": "code",
   "execution_count": 19,
   "id": "f39e67fa-ed65-4c80-9160-07486246d813",
   "metadata": {},
   "outputs": [
    {
     "data": {
      "text/plain": [
       "(3718, 300)"
      ]
     },
     "execution_count": 19,
     "metadata": {},
     "output_type": "execute_result"
    }
   ],
   "source": [
    "embedding_matrix.shape"
   ]
  },
  {
   "cell_type": "code",
   "execution_count": 20,
   "id": "39434e67-0664-4e00-a6b5-b55e76935a38",
   "metadata": {},
   "outputs": [
    {
     "name": "stdout",
     "output_type": "stream",
     "text": [
      "Model: \"sequential\"\n",
      "_________________________________________________________________\n",
      " Layer (type)                Output Shape              Param #   \n",
      "=================================================================\n",
      " embedding (Embedding)       (None, 183, 300)          1115400   \n",
      "                                                                 \n",
      " bidirectional (Bidirectiona  (None, 128)              186880    \n",
      " l)                                                              \n",
      "                                                                 \n",
      " dropout (Dropout)           (None, 128)               0         \n",
      "                                                                 \n",
      " dense (Dense)               (None, 3)                 387       \n",
      "                                                                 \n",
      "=================================================================\n",
      "Total params: 1,302,667\n",
      "Trainable params: 187,267\n",
      "Non-trainable params: 1,115,400\n",
      "_________________________________________________________________\n"
     ]
    }
   ],
   "source": [
    "model = Sequential()\n",
    "\n",
    "embedding_layer = Embedding(\n",
    "    vocab_size,\n",
    "    embedding_dim,\n",
    "    input_length=max_words,\n",
    "    embeddings_initializer=Constant(embedding_matrix),\n",
    "    trainable=False,\n",
    ")\n",
    "\n",
    "model.add(embedding_layer)\n",
    "model.add(Bidirectional(LSTM(64)))\n",
    "model.add(Dropout(0.5))\n",
    "model.add(Dense(3, activation='softmax'))\n",
    "\n",
    "model.summary()"
   ]
  },
  {
   "cell_type": "code",
   "execution_count": 21,
   "id": "c17cd848-0894-4189-af8e-81146e1347a1",
   "metadata": {},
   "outputs": [],
   "source": [
    "model.compile(\n",
    "    loss= 'categorical_crossentropy',\n",
    "    optimizer='adam', \n",
    "    metrics=['accuracy']\n",
    ")"
   ]
  },
  {
   "cell_type": "code",
   "execution_count": 22,
   "id": "0def20f0-9752-430f-b182-a6d2c6e5c4e7",
   "metadata": {},
   "outputs": [
    {
     "name": "stdout",
     "output_type": "stream",
     "text": [
      "Epoch 1/10\n",
      "86/86 [==============================] - 17s 127ms/step - loss: 1.0152 - accuracy: 0.4989 - val_loss: 0.8954 - val_accuracy: 0.5987\n",
      "Epoch 2/10\n",
      "86/86 [==============================] - 10s 121ms/step - loss: 0.8594 - accuracy: 0.6177 - val_loss: 0.8470 - val_accuracy: 0.6118\n",
      "Epoch 3/10\n",
      "86/86 [==============================] - 11s 125ms/step - loss: 0.7920 - accuracy: 0.6528 - val_loss: 0.8167 - val_accuracy: 0.6151\n",
      "Epoch 4/10\n",
      "86/86 [==============================] - 10s 119ms/step - loss: 0.7432 - accuracy: 0.6791 - val_loss: 0.8143 - val_accuracy: 0.6316\n",
      "Epoch 5/10\n",
      "86/86 [==============================] - 10s 119ms/step - loss: 0.7080 - accuracy: 0.6977 - val_loss: 0.7962 - val_accuracy: 0.6546\n",
      "Epoch 6/10\n",
      "86/86 [==============================] - 10s 118ms/step - loss: 0.6779 - accuracy: 0.7149 - val_loss: 0.8013 - val_accuracy: 0.6151\n",
      "Epoch 7/10\n",
      "86/86 [==============================] - 10s 118ms/step - loss: 0.6547 - accuracy: 0.7113 - val_loss: 0.7920 - val_accuracy: 0.6711\n",
      "Epoch 8/10\n",
      "86/86 [==============================] - 10s 121ms/step - loss: 0.6452 - accuracy: 0.7186 - val_loss: 0.7592 - val_accuracy: 0.6711\n",
      "Epoch 9/10\n",
      "86/86 [==============================] - 10s 121ms/step - loss: 0.6324 - accuracy: 0.7292 - val_loss: 0.7758 - val_accuracy: 0.6513\n",
      "Epoch 10/10\n",
      "86/86 [==============================] - 11s 123ms/step - loss: 0.5990 - accuracy: 0.7390 - val_loss: 0.7926 - val_accuracy: 0.6513\n"
     ]
    }
   ],
   "source": [
    "train_history = model.fit(\n",
    "    xtrain, \n",
    "    ytrain, \n",
    "    batch_size=32, \n",
    "    epochs=10, \n",
    "    validation_data=(xval, yval)\n",
    ")"
   ]
  },
  {
   "cell_type": "code",
   "execution_count": 39,
   "id": "fab50cbe-6e16-4041-ace1-3d5409e0b96e",
   "metadata": {},
   "outputs": [
    {
     "data": {
      "image/png": "[encoded data removed]",
      "text/plain": [
       "<Figure size 864x432 with 1 Axes>"
      ]
     },
     "metadata": {
      "needs_background": "light"
     },
     "output_type": "display_data"
    }
   ],
   "source": [
    "plt.figure(figsize=(12, 6))\n",
    "plt.plot(range(1, 11), train_history.history['loss'], label='loss')\n",
    "plt.plot(range(1, 11), train_history.history['val_loss'], label='val_loss')\n",
    "plt.plot(range(1, 11), train_history.history['accuracy'], label='accuracy')\n",
    "plt.legend()\n",
    "plt.show()"
   ]
  },
  {
   "cell_type": "code",
   "execution_count": 42,
   "id": "78ef2400-0b86-40fe-a8c1-efaaabf5baec",
   "metadata": {},
   "outputs": [
    {
     "name": "stdout",
     "output_type": "stream",
     "text": [
      "Prob: [2.6579370e-04 6.5952833e-03 9.9313897e-01]\n",
      "Class: 3\n",
      "text: ['giá', 'rẻ', 'chất_lượng', 'văn_phòng', 'hợp_lý']\n"
     ]
    }
   ],
   "source": [
    "# 34 -> 3, 25 -> 1\n",
    "idx = 34\n",
    "pred = model.predict(xval)[idx]\n",
    "print('Prob:', pred)\n",
    "print('Class:', pred.argmax()+ 1)\n",
    "print('text:', [inverse_vocab[index] for index in xval[idx] if inverse_vocab[index] != inverse_vocab[0]])"
   ]
  },
  {
   "cell_type": "code",
   "execution_count": 43,
   "id": "dde87b27-6a80-4f1d-980f-523c07f02639",
   "metadata": {},
   "outputs": [],
   "source": [
    "def pred(text):\n",
    "    text = clean_text(text)\n",
    "    text = remove_emojis(text)\n",
    "    tokens = word_preprocessing(text)\n",
    "    X = pad_sequences([[vocab[word] for word in tokens]], maxlen=max_words, value=0, padding='post')\n",
    "    pred = model.predict(X)\n",
    "    print('Prob:', pred)\n",
    "    print('Class:', pred.argmax()+ 1)\n",
    "    print('text:', [inverse_vocab[idx] for idx in X.ravel() if inverse_vocab[idx] != inverse_vocab[0]])"
   ]
  },
  {
   "cell_type": "code",
   "execution_count": 44,
   "id": "8a2ee8c4-fa9c-473e-b660-244bc0157e99",
   "metadata": {},
   "outputs": [
    {
     "name": "stdout",
     "output_type": "stream",
     "text": [
      "Prob: [[0.8081424  0.11977336 0.0720842 ]]\n",
      "Class: 1\n",
      "text: ['đóng', 'gói', 'hàng', 'tệ']\n"
     ]
    }
   ],
   "source": [
    "pred('đóng gói hàng rất tệ')"
   ]
  }
 ],
 "metadata": {
  "kernelspec": {
   "display_name": "Python 3 (ipykernel)",
   "language": "python",
   "name": "python3"
  },
  "language_info": {
   "codemirror_mode": {
    "name": "ipython",
    "version": 3
   },
   "file_extension": ".py",
   "mimetype": "text/x-python",
   "name": "python",
   "nbconvert_exporter": "python",
   "pygments_lexer": "ipython3",
   "version": "3.9.12"
  }
 },
 "nbformat": 4,
 "nbformat_minor": 5
}
